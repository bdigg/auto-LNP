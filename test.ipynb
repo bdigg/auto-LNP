{
 "cells": [
  {
   "cell_type": "code",
   "execution_count": null,
   "metadata": {},
   "outputs": [],
   "source": [
    "import pump\n",
    "import sys\n",
    "import os\n",
    "import time\n",
    "import matplotlib.pyplot as plt\n",
    "import numpy as np\n",
    "import threading\n",
    "import expel\n",
    "import pandas as pd\n",
    "from openpyxl import load_workbook\n",
    "from openpyxl.utils.dataframe import dataframe_to_rows\n",
    "from datetime import datetime\n",
    "\n",
    "def savetoexcel(exp_name,status,expparams,exp_FRs,wpindex,volume,fr_perc_error,repeat):\n",
    "    data = {\n",
    "        'ExpName': [exp_name],\n",
    "        'State': [status],\n",
    "        'RepeatNum': [repeat],\n",
    "        'Time': [datetime.now().strftime('%H:%M:%S')],\n",
    "        'Date': [(datetime.today().strftime('%Y-%m-%d'))],\n",
    "        'WPIndex': [str(wpindex)],\n",
    "        'FRR': [expparams[1]],  \n",
    "        'TotalFR': [expparams[0]],  \n",
    "        'Volume': [volume],\n",
    "        'Buf-Name': [expparams[5]],\n",
    "        'Buf-FR': [exp_FRs[0]],\n",
    "        'Buf-FRer': [fr_perc_error[0]],\n",
    "        'Lp1-Name': [expparams[6]],\n",
    "        'Lp1-Comp': [expparams[2]],\n",
    "        'Lp1-FR': [exp_FRs[1]],\n",
    "        'Lp1-FRer': [fr_perc_error[1]],\n",
    "        'Lp2-Name': [expparams[7]],\n",
    "        'Lp2-Comp': [expparams[3]],\n",
    "        'Lp2-FR': [exp_FRs[2]],\n",
    "        'Lp2-FRer': [fr_perc_error[2]],\n",
    "        'Lp3-Name': [expparams[8]],\n",
    "        'Lp3-Comp': [expparams[4]],\n",
    "        'Lp3-FR': [exp_FRs[3]],\n",
    "        'Lp3-FRer': [fr_perc_error[3]],        \n",
    "    }\n",
    "\n",
    "    # Convert data to DataFrame\n",
    "    df = pd.DataFrame(data)\n",
    "\n",
    "    # Excel file name\n",
    "    excel_file = 'ExperimentLog.xlsx'\n",
    "\n",
    "    # Check if the Excel file already exists\n",
    "    # Check if the Excel file already exists\n",
    "    # Check if the Excel file already exists\n",
    "    try:\n",
    "        # Load the existing workbook\n",
    "        book = load_workbook(excel_file)\n",
    "        \n",
    "        # Select the active sheet\n",
    "        sheet = book.active\n",
    "        \n",
    "        # Append DataFrame to the existing sheet\n",
    "        for r in dataframe_to_rows(df, index=False, header=False):\n",
    "            sheet.append(r)\n",
    "        \n",
    "        # Save the workbook\n",
    "        book.save(excel_file)\n",
    "        \n",
    "        print(\"Data appended to Excel successfully.\")\n",
    "        \n",
    "    except FileNotFoundError:\n",
    "        # If the file doesn't exist, create a new Excel file and write the DataFrame\n",
    "        df.to_excel(excel_file, index=False)\n",
    "    print(\"Data written to a new Excel file successfully.\")\n",
    "\n",
    "expparams = [150,6,96,3,1,\"test\",\"DPPC\",\"Lyso\",\"Chol\"]\n",
    "exp_FRs = [100,80,40,20]\n",
    "start_t = 0\n",
    "wpindex = [1,2]\n",
    "volume = 50\n",
    "fr_perc_error = [0.05,0.04,0.03,0.02]\n",
    "repeat = 2\n",
    "savetoexcel(\"test\",\"Failed\",expparams,exp_FRs,wpindex,volume,fr_perc_error,repeat)"
   ]
  },
  {
   "cell_type": "code",
   "execution_count": null,
   "metadata": {},
   "outputs": [],
   "source": [
    "import math\n",
    "\n",
    "def tubedelay(tubingdim,set_FR,active_channels):\n",
    "    diameter = (math.pi)*(tubingdim[0]/2)**2\n",
    "    tube_t1 = (diameter*(tubingdim[1]*10))/np.min(set_FR[0:(len(active_channels)-1)])\n",
    "    tube_t2 = (diameter*(tubingdim[2]*10))/np.sum(set_FR)\n",
    "    tube_delay = (tube_t1 + tube_t2)*60 + 2\n",
    "    return diameter, tube_delay\n",
    "\n",
    "tubingdim = [0.51,20,20] \n",
    "set_FR = [50,40,0,0]\n",
    "active_chans = [1,2]\n",
    "\n",
    "0.817\n",
    "#40mm2 / 40ul\n",
    "\n",
    "print(tubedelay(tubingdim,set_FR,active_chans))\n"
   ]
  },
  {
   "cell_type": "code",
   "execution_count": null,
   "metadata": {},
   "outputs": [],
   "source": [
    "import math\n",
    "#Reynolds Number Calculator\n",
    "Density = 0.9/1000 #g/mm3\n",
    "flowspeed = (400/((math.pi)*(0.51/2)**2))*60 #mm/s\n",
    "CharLinearDim = 0.51 #mm\n",
    "DynamicViscosity = 0.015 #g/mms\n",
    "RN = (Density*flowspeed*CharLinearDim)/DynamicViscosity\n",
    "print(RN)\n"
   ]
  },
  {
   "cell_type": "code",
   "execution_count": 1,
   "metadata": {},
   "outputs": [
    {
     "name": "stdout",
     "output_type": "stream",
     "text": [
      "COM4 - Arduino NANO Every (COM4)\n",
      "COM4\n",
      "Connected to COM4\n",
      "\n"
     ]
    }
   ],
   "source": [
    "import expel\n",
    "ser = expel.serconnect()\n",
    "expel.servoswitch(ser,0)"
   ]
  },
  {
   "cell_type": "code",
   "execution_count": 4,
   "metadata": {},
   "outputs": [],
   "source": [
    "expel.servoswitch(ser,0)#wasrt "
   ]
  },
  {
   "cell_type": "code",
   "execution_count": 2,
   "metadata": {},
   "outputs": [],
   "source": [
    "expel.servoswitch(ser,1)#collection"
   ]
  },
  {
   "cell_type": "code",
   "execution_count": 38,
   "metadata": {},
   "outputs": [],
   "source": [
    "expel.setdirection(ser,\"Vert\",\"Towards\")\n",
    "expel.setdirection(ser,\"Horz\",\"Towards\")"
   ]
  },
  {
   "cell_type": "code",
   "execution_count": 11,
   "metadata": {},
   "outputs": [],
   "source": [
    "expel.setdirection(ser,\"Vert\",\"Away\")\n",
    "expel.setdirection(ser,\"Horz\",\"Away\")"
   ]
  },
  {
   "cell_type": "code",
   "execution_count": 14,
   "metadata": {},
   "outputs": [],
   "source": [
    "#In Vert, 6000 steps is 225mm \n",
    "#In horz, 6000 steps is same\n",
    "\n",
    "expel.setstep(ser,25,0)\n",
    "\n",
    "#V  away 1200\n",
    "#H  towards 700\n"
   ]
  },
  {
   "cell_type": "code",
   "execution_count": null,
   "metadata": {},
   "outputs": [],
   "source": [
    "def setstep(ser,stepsV,stepsH):\n",
    "    writestring = \"<B\" + str(stepsV) + \",\" + str(stepsH) + \">\"\n",
    "    bytestowrite = writestring.encode()  # encodes the string to UTF-8\n",
    "    ser.write(bytestowrite)  # sending the data\n",
    "    b = ser.readline()\n",
    "    readstring = b.decode(\"utf-8\")\n",
    "\n",
    "setstep(ser,1000,500)"
   ]
  },
  {
   "cell_type": "code",
   "execution_count": 8,
   "metadata": {},
   "outputs": [],
   "source": [
    "expel.home(ser)\n",
    "expel.setdirection(ser,\"Vert\",\"Away\")\n",
    "expel.setdirection(ser,\"Horz\",\"Away\")"
   ]
  },
  {
   "cell_type": "code",
   "execution_count": 3,
   "metadata": {},
   "outputs": [
    {
     "name": "stdout",
     "output_type": "stream",
     "text": [
      "To home and first well\n"
     ]
    }
   ],
   "source": [
    "expel.homeandfirst(ser)"
   ]
  },
  {
   "cell_type": "code",
   "execution_count": 5,
   "metadata": {},
   "outputs": [
    {
     "name": "stdout",
     "output_type": "stream",
     "text": [
      "-717.8571428571429 -1678.409090909091\n"
     ]
    }
   ],
   "source": [
    "expel.nextwell(ser,[4,8],[1,1])"
   ]
  },
  {
   "cell_type": "code",
   "execution_count": null,
   "metadata": {},
   "outputs": [],
   "source": [
    "expel.nextwell(ser,[1,12],[2,1])"
   ]
  },
  {
   "cell_type": "code",
   "execution_count": 5,
   "metadata": {},
   "outputs": [
    {
     "ename": "KeyboardInterrupt",
     "evalue": "",
     "output_type": "error",
     "traceback": [
      "\u001b[1;31m---------------------------------------------------------------------------\u001b[0m",
      "\u001b[1;31mKeyboardInterrupt\u001b[0m                         Traceback (most recent call last)",
      "Cell \u001b[1;32mIn[5], line 1\u001b[0m\n\u001b[1;32m----> 1\u001b[0m \u001b[43mexpel\u001b[49m\u001b[38;5;241;43m.\u001b[39;49m\u001b[43mnextwellold\u001b[49m\u001b[43m(\u001b[49m\u001b[43mser\u001b[49m\u001b[43m)\u001b[49m\n",
      "File \u001b[1;32mc:\\Users\\bdigg\\OneDrive\\Documents\\GitHub\\auto-LNP\\auto-LNP\\expel.py:100\u001b[0m, in \u001b[0;36mnextwellold\u001b[1;34m(ser)\u001b[0m\n\u001b[0;32m     98\u001b[0m \u001b[38;5;28;01mfor\u001b[39;00m j \u001b[38;5;129;01min\u001b[39;00m \u001b[38;5;28mrange\u001b[39m(\u001b[38;5;241m0\u001b[39m,cols\u001b[38;5;241m-\u001b[39m\u001b[38;5;241m1\u001b[39m):\n\u001b[0;32m     99\u001b[0m     move(ser,\u001b[38;5;124m\"\u001b[39m\u001b[38;5;124mAway\u001b[39m\u001b[38;5;124m\"\u001b[39m,\u001b[38;5;124m\"\u001b[39m\u001b[38;5;124mTowards\u001b[39m\u001b[38;5;124m\"\u001b[39m,hstep,\u001b[38;5;241m0\u001b[39m)\n\u001b[1;32m--> 100\u001b[0m     \u001b[43mtime\u001b[49m\u001b[38;5;241;43m.\u001b[39;49m\u001b[43msleep\u001b[49m\u001b[43m(\u001b[49m\u001b[38;5;241;43m0.5\u001b[39;49m\u001b[43m)\u001b[49m\n\u001b[0;32m    101\u001b[0m move(ser,\u001b[38;5;124m\"\u001b[39m\u001b[38;5;124mTowards\u001b[39m\u001b[38;5;124m\"\u001b[39m,\u001b[38;5;124m\"\u001b[39m\u001b[38;5;124mTowards\u001b[39m\u001b[38;5;124m\"\u001b[39m,\u001b[38;5;241m2637.5\u001b[39m,\u001b[38;5;241m0\u001b[39m)\n\u001b[0;32m    102\u001b[0m move(ser,\u001b[38;5;124m\"\u001b[39m\u001b[38;5;124mTowards\u001b[39m\u001b[38;5;124m\"\u001b[39m,\u001b[38;5;124m\"\u001b[39m\u001b[38;5;124mAway\u001b[39m\u001b[38;5;124m\"\u001b[39m,\u001b[38;5;241m0\u001b[39m,vstep)\n",
      "\u001b[1;31mKeyboardInterrupt\u001b[0m: "
     ]
    }
   ],
   "source": [
    "expel.nextwellold(ser)"
   ]
  },
  {
   "cell_type": "code",
   "execution_count": 3,
   "metadata": {},
   "outputs": [
    {
     "name": "stdout",
     "output_type": "stream",
     "text": [
      "[ 1 12]\n"
     ]
    }
   ],
   "source": [
    "import numpy as np\n",
    "arr = [1,12]\n",
    "np.save('myarray.npy', arr)\n",
    "arr_loaded = np.load('myarray.npy')\n",
    "print(arr_loaded)"
   ]
  },
  {
   "cell_type": "code",
   "execution_count": 14,
   "metadata": {},
   "outputs": [
    {
     "name": "stdout",
     "output_type": "stream",
     "text": [
      "[[[ 471.44827586  -17.           11.37931034   64.5862069    93.51724138\n",
      "    128.86206897   79.13793103   62.86206897  101.93103448  128.51724138\n",
      "    104.93103448  111.5862069   118.34482759  120.44827586  118.4137931\n",
      "    115.17241379  116.86206897  118.06896552  119.06896552  115.31034483\n",
      "    116.75862069  117.65517241  119.27586207  120.31034483  120.44827586\n",
      "    120.51724138  120.4137931   120.4137931   120.31034483  120.20689655\n",
      "    120.10344828  123.68965517  122.06896552  122.03448276  121.75862069\n",
      "    121.13793103  121.20689655  120.72413793  120.34482759  120.37931034\n",
      "    120.44827586  120.5862069   120.44827586  120.10344828  120.24137931\n",
      "    120.13793103  120.20689655  116.72413793  117.4137931   118.\n",
      "    118.5862069   118.79310345  119.06896552  122.93103448  122.48275862\n",
      "    121.75862069  121.31034483  121.4137931   120.82758621  120.75862069\n",
      "    120.82758621  120.48275862  120.13793103  120.5862069   120.34482759\n",
      "    120.31034483  120.17241379  120.37931034  120.        ]\n",
      "  [ 186.09275862 -131.48310345  -81.76586207  -53.69517241  -20.03827586\n",
      "      7.19448276   67.52551724  100.90310345   61.93931034  129.11344828\n",
      "     67.94448276   46.01862069  145.31344828  114.17034483  127.57724138\n",
      "    127.43758621   96.01517241   95.5962069   104.11517241  111.37724138\n",
      "    126.32034483  135.95655172  122.27034483  114.03068966  113.75137931\n",
      "    116.40482759  118.08068966  116.68413793  116.8237931   117.10310345\n",
      "    118.49965517  121.15310345  121.15310345  121.15310345  121.29275862\n",
      "    121.29275862  121.01344828  121.43241379  121.15310345  121.85137931\n",
      "    121.71172414  121.71172414  121.29275862  121.15310345  121.57206897\n",
      "    121.01344828  121.15310345  119.05827586  119.05827586  118.08068966\n",
      "    118.08068966  118.36        118.36        119.8962069   120.45482759\n",
      "    120.59448276  120.45482759  120.17551724  120.45482759  120.45482759\n",
      "    120.45482759  120.03586207  120.03586207  120.45482759  120.8737931\n",
      "    120.45482759  120.03586207  120.03586207  120.31517241]\n",
      "  [ 218.0737931   -13.7537931   -37.77448276  -45.59517241  -30.65206897\n",
      "     -6.63137931   44.48241379   79.81517241  106.90827586   79.67551724\n",
      "    151.59793103  153.83241379   70.59793103   83.30655172  102.99793103\n",
      "    139.30827586  147.12896552  115.00827586  117.94103448  103.27724138\n",
      "    120.59448276  102.99793103  109.42206897  119.05827586  118.91862069\n",
      "    117.80137931  118.77896552  119.47724138  119.75655172  119.33758621\n",
      "    118.22034483  120.45482759  121.01344828  121.43241379  121.57206897\n",
      "    121.43241379  121.99103448  121.15310345  121.29275862  120.59448276\n",
      "    120.45482759  121.01344828  121.43241379  121.29275862  120.73413793\n",
      "    121.43241379  120.8737931   119.19793103  118.91862069  118.36\n",
      "    118.77896552  118.08068966  118.77896552  120.45482759  120.31517241\n",
      "    120.03586207  120.17551724  120.45482759  120.03586207  119.8962069\n",
      "    120.17551724  119.8962069   120.03586207  120.45482759  120.03586207\n",
      "    120.17551724  120.31517241  119.61689655  119.47724138]\n",
      "  [ 406.60827586   41.68931034  -35.12103448  -34.42275862  -39.45034483\n",
      "     -5.51413793   45.32034483   85.96         98.38931034  100.20482759\n",
      "    120.45482759  105.65137931   92.38413793  128.41517241   95.5962069\n",
      "     83.30655172  125.62206897  119.75655172  140.00655172  136.37551724\n",
      "    118.08068966  126.87896552  131.76689655  125.90137931  124.9237931\n",
      "    122.82896552  121.43241379  122.27034483  121.43241379  121.43241379\n",
      "    120.31517241  122.27034483  122.27034483  122.68931034  122.82896552\n",
      "    121.85137931  121.85137931  121.71172414  121.43241379  121.99103448\n",
      "    121.43241379  121.43241379  121.57206897  121.57206897  121.43241379\n",
      "    121.29275862  121.43241379  119.19793103  118.77896552  118.77896552\n",
      "    118.49965517  117.94103448  118.36        120.03586207  120.45482759\n",
      "    120.03586207  120.31517241  119.61689655  119.33758621  119.8962069\n",
      "    119.8962069   119.47724138  120.31517241  120.17551724  120.31517241\n",
      "    119.8962069   119.47724138  119.75655172  119.75655172]]]\n"
     ]
    }
   ],
   "source": [
    "arr_loaded = np.load('./Flowplots/TestTest170424/flowdata/TestTest170424-flow.npy')\n",
    "print(arr_loaded)"
   ]
  },
  {
   "cell_type": "code",
   "execution_count": 12,
   "metadata": {},
   "outputs": [
    {
     "name": "stdout",
     "output_type": "stream",
     "text": [
      "[[122.17241379 121.89655172 121.34482759 120.96551724 120.17241379\n",
      "  119.72413793 119.44827586 120.75862069 120.62068966 120.27586207\n",
      "  120.10344828 120.20689655 120.37931034 119.93103448 119.65517241\n",
      "  120.         119.68965517 119.79310345 119.05827586 120.03586207\n",
      "  119.47724138 117.94103448 117.80137931 118.22034483 118.22034483\n",
      "  119.75655172 119.19793103 118.36       118.91862069 118.91862069\n",
      "  118.49965517 118.22034483 117.94103448 118.63931034 119.05827586\n",
      "  118.36       117.94103448 118.22034483 118.77896552 118.77896552\n",
      "  117.94103448 118.22034483 117.24275862 118.36       118.63931034\n",
      "  118.91862069 118.91862069 120.03586207 119.05827586 117.94103448\n",
      "  117.66172414 118.22034483 118.36       118.77896552 118.22034483\n",
      "  118.22034483 118.08068966 118.22034483 117.66172414 118.22034483\n",
      "  118.36       118.77896552 118.77896552 118.49965517 118.22034483\n",
      "  118.91862069 119.33758621 118.77896552 118.22034483 118.22034483\n",
      "  118.63931034 118.36      ]\n",
      " [122.03448276 121.82758621 121.31034483 121.20689655 120.72413793\n",
      "  120.4137931  120.65517241 119.89655172 120.51724138 120.79310345\n",
      "  120.82758621 121.         120.72413793 119.68965517 120.\n",
      "  120.27586207 120.34482759 119.79310345 118.36       118.08068966\n",
      "  118.22034483 118.36       119.05827586 118.91862069 118.36\n",
      "  117.94103448 118.63931034 118.91862069 119.05827586 119.19793103\n",
      "  118.91862069 119.05827586 119.05827586 119.19793103 119.19793103\n",
      "  118.91862069 119.33758621 118.36       118.91862069 117.80137931\n",
      "  118.08068966 118.08068966 118.36       118.36       119.19793103\n",
      "  119.19793103 119.47724138 119.33758621 118.63931034 119.05827586\n",
      "  118.63931034 118.91862069 118.91862069 119.05827586 118.22034483\n",
      "  117.80137931 118.36       118.63931034 119.33758621 118.36\n",
      "  118.63931034 118.36       118.77896552 118.49965517 119.05827586\n",
      "  118.91862069 118.77896552 118.36       118.91862069 118.49965517\n",
      "  118.91862069 119.05827586]\n",
      " [122.82758621 122.55172414 121.65517241 121.10344828 121.27586207\n",
      "  120.31034483 119.93103448 120.         120.4137931  120.51724138\n",
      "  119.51724138 119.96551724 120.24137931 119.93103448 120.\n",
      "  119.75862069 120.20689655 119.31034483 119.47724138 119.05827586\n",
      "  119.05827586 119.61689655 119.33758621 118.77896552 118.91862069\n",
      "  119.47724138 120.31517241 119.47724138 118.91862069 119.19793103\n",
      "  119.47724138 119.19793103 119.47724138 119.75655172 119.33758621\n",
      "  119.19793103 119.19793103 118.91862069 119.19793103 119.47724138\n",
      "  119.33758621 119.47724138 119.05827586 119.19793103 119.33758621\n",
      "  118.91862069 118.63931034 119.19793103 119.19793103 118.91862069\n",
      "  119.19793103 119.33758621 119.33758621 118.91862069 119.47724138\n",
      "  119.19793103 119.05827586 119.19793103 119.33758621 118.91862069\n",
      "  119.61689655 118.91862069 118.91862069 119.05827586 118.49965517\n",
      "  119.05827586 119.19793103 118.77896552 118.77896552 118.91862069\n",
      "  119.19793103 118.77896552]]\n"
     ]
    }
   ],
   "source": [
    "arr_loaded = np.load('./Flowplots/TestTest170424/flowdata/TestTest170424-steadyflowonly.npy')\n",
    "print(arr_loaded)\n"
   ]
  },
  {
   "cell_type": "code",
   "execution_count": 3,
   "metadata": {},
   "outputs": [
    {
     "name": "stdout",
     "output_type": "stream",
     "text": [
      "Instrument name and regulator types are hardcoded in the Python script\n",
      "error:0\n",
      "OB1 ID: 0\n"
     ]
    },
    {
     "data": {
      "text/plain": [
       "0"
      ]
     },
     "execution_count": 3,
     "metadata": {},
     "output_type": "execute_result"
    }
   ],
   "source": [
    "import pump\n",
    "pump.pressure_init()"
   ]
  },
  {
   "cell_type": "code",
   "execution_count": 2,
   "metadata": {},
   "outputs": [
    {
     "name": "stdout",
     "output_type": "stream",
     "text": [
      "Pressure calib\n",
      "noicer\n",
      "<_FuncPtr object at 0x0000026FBB6B5980>\n"
     ]
    }
   ],
   "source": [
    "pump.pressure_calib(\"load\")"
   ]
  },
  {
   "cell_type": "code",
   "execution_count": 3,
   "metadata": {},
   "outputs": [
    {
     "name": "stdout",
     "output_type": "stream",
     "text": [
      "Calib saved in b'C:/Users/bdigg/OneDrive/Documents/GitHub/auto-LNP/auto-LNP/0204B3ED.calib'\n"
     ]
    }
   ],
   "source": [
    "import sys\n",
    "from email.header import UTF8\n",
    "sys.path.append('./DLL64')\n",
    "sys.path.append('./Elveflow64.py')\n",
    "from ctypes import *\n",
    "from array import array\n",
    "from Elveflow64 import *\n",
    "Instr_ID = c_int32()\n",
    "\n",
    "Calib = (c_double*1000)()\n",
    "Calib_path = 'C:/Users/bdigg/OneDrive/Documents/GitHub/auto-LNP/auto-LNP/0204B3ED.calib'\n",
    "OB1_Calib (Instr_ID.value, Calib, 1000)\n",
    "error = Elveflow_Calibration_Save(Calib_path.encode('ascii'), byref(Calib), 1000)\n",
    "print('Calib saved in %s' % Calib_path.encode('ascii'))\n",
    "\n",
    "import ctypes as ct\n",
    "import numpy as np\n",
    "\n",
    "np.save(\"./calib\",Calib)"
   ]
  },
  {
   "cell_type": "code",
   "execution_count": 1,
   "metadata": {},
   "outputs": [
    {
     "ename": "NameError",
     "evalue": "name 'Elveflow_Calibration_Load' is not defined",
     "output_type": "error",
     "traceback": [
      "\u001b[1;31m---------------------------------------------------------------------------\u001b[0m",
      "\u001b[1;31mNameError\u001b[0m                                 Traceback (most recent call last)",
      "Cell \u001b[1;32mIn[1], line 2\u001b[0m\n\u001b[0;32m      1\u001b[0m Calib_path \u001b[38;5;241m=\u001b[39m \u001b[38;5;124m'\u001b[39m\u001b[38;5;124mC:/Users/bdigg/OneDrive/Documents/GitHub/auto-LNP/auto-LNP/0204B3ED.calib\u001b[39m\u001b[38;5;124m'\u001b[39m\n\u001b[1;32m----> 2\u001b[0m error \u001b[38;5;241m=\u001b[39m \u001b[43mElveflow_Calibration_Load\u001b[49m (Calib_path\u001b[38;5;241m.\u001b[39mencode(\u001b[38;5;124m'\u001b[39m\u001b[38;5;124mascii\u001b[39m\u001b[38;5;124m'\u001b[39m), byref(Calib), \u001b[38;5;241m1000\u001b[39m)\n",
      "\u001b[1;31mNameError\u001b[0m: name 'Elveflow_Calibration_Load' is not defined"
     ]
    }
   ],
   "source": [
    "Calib_path = 'C:/Users/bdigg/OneDrive/Documents/GitHub/auto-LNP/auto-LNP/0204B3ED.calib'\n",
    "error = Elveflow_Calibration_Load (Calib_path.encode('ascii'), byref(Calib), 1000)"
   ]
  },
  {
   "cell_type": "code",
   "execution_count": 4,
   "metadata": {},
   "outputs": [
    {
     "name": "stdout",
     "output_type": "stream",
     "text": [
      "<__main__.LP_c_double_Array_1000 object at 0x000001BD7EFDC4D0>\n",
      "Instrument name and regulator types are hardcoded in the Python script\n",
      "error:0\n",
      "OB1 ID: 1\n"
     ]
    }
   ],
   "source": [
    "import ctypes as ct\n",
    "import numpy as np\n",
    "\n",
    "array = np.load(\"calib.npy\")\n",
    "array.ctypes.data\n",
    "calibarr = array.ctypes.data_as(ct.POINTER(ct.c_double*1000))\n",
    "print(calibar)\n",
    "\n",
    "error = pump.pressure_init()\n",
    "press = pump.get_pressure_data(1)\n"
   ]
  },
  {
   "cell_type": "code",
   "execution_count": 2,
   "metadata": {},
   "outputs": [
    {
     "name": "stdout",
     "output_type": "stream",
     "text": [
      "Pressure calib\n",
      "noice\n",
      "<_FuncPtr object at 0x00000245D11D7380>\n"
     ]
    }
   ],
   "source": [
    "error = pump.pressure_calib(\"load\")\n",
    "print(error)"
   ]
  },
  {
   "cell_type": "code",
   "execution_count": null,
   "metadata": {},
   "outputs": [],
   "source": [
    "import ctypes as ct\n"
   ]
  }
 ],
 "metadata": {
  "kernelspec": {
   "display_name": "autolnp",
   "language": "python",
   "name": "python3"
  },
  "language_info": {
   "codemirror_mode": {
    "name": "ipython",
    "version": 3
   },
   "file_extension": ".py",
   "mimetype": "text/x-python",
   "name": "python",
   "nbconvert_exporter": "python",
   "pygments_lexer": "ipython3",
   "version": "3.12.1"
  }
 },
 "nbformat": 4,
 "nbformat_minor": 2
}
