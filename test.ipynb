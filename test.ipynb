{
 "cells": [
  {
   "cell_type": "code",
   "execution_count": 17,
   "metadata": {},
   "outputs": [
    {
     "name": "stdout",
     "output_type": "stream",
     "text": [
      "Data appended to Excel successfully.\n",
      "Data written to a new Excel file successfully.\n"
     ]
    }
   ],
   "source": [
    "import pump\n",
    "import sys\n",
    "import os\n",
    "import time\n",
    "import matplotlib.pyplot as plt\n",
    "import numpy as np\n",
    "import threading\n",
    "import expel\n",
    "import pandas as pd\n",
    "from openpyxl import load_workbook\n",
    "from openpyxl.utils.dataframe import dataframe_to_rows\n",
    "from datetime import datetime\n",
    "\n",
    "def savetoexcel(exp_name,status,expparams,exp_FRs,wpindex,volume,fr_perc_error,repeat):\n",
    "    data = {\n",
    "        'ExpName': [exp_name],\n",
    "        'State': [status],\n",
    "        'RepeatNum': [repeat],\n",
    "        'Time': [datetime.now().strftime('%H:%M:%S')],\n",
    "        'Date': [(datetime.today().strftime('%Y-%m-%d'))],\n",
    "        'WPIndex': [str(wpindex)],\n",
    "        'FRR': [expparams[1]],  \n",
    "        'TotalFR': [expparams[0]],  \n",
    "        'Volume': [volume],\n",
    "        'Buf-Name': [expparams[5]],\n",
    "        'Buf-FR': [exp_FRs[0]],\n",
    "        'Buf-FRer': [fr_perc_error[0]],\n",
    "        'Lp1-Name': [expparams[6]],\n",
    "        'Lp1-Comp': [expparams[2]],\n",
    "        'Lp1-FR': [exp_FRs[1]],\n",
    "        'Lp1-FRer': [fr_perc_error[1]],\n",
    "        'Lp2-Name': [expparams[7]],\n",
    "        'Lp2-Comp': [expparams[3]],\n",
    "        'Lp2-FR': [exp_FRs[2]],\n",
    "        'Lp2-FRer': [fr_perc_error[2]],\n",
    "        'Lp3-Name': [expparams[8]],\n",
    "        'Lp3-Comp': [expparams[4]],\n",
    "        'Lp3-FR': [exp_FRs[3]],\n",
    "        'Lp3-FRer': [fr_perc_error[3]],        \n",
    "    }\n",
    "\n",
    "    # Convert data to DataFrame\n",
    "    df = pd.DataFrame(data)\n",
    "\n",
    "    # Excel file name\n",
    "    excel_file = 'ExperimentLog.xlsx'\n",
    "\n",
    "    # Check if the Excel file already exists\n",
    "    # Check if the Excel file already exists\n",
    "    # Check if the Excel file already exists\n",
    "    try:\n",
    "        # Load the existing workbook\n",
    "        book = load_workbook(excel_file)\n",
    "        \n",
    "        # Select the active sheet\n",
    "        sheet = book.active\n",
    "        \n",
    "        # Append DataFrame to the existing sheet\n",
    "        for r in dataframe_to_rows(df, index=False, header=False):\n",
    "            sheet.append(r)\n",
    "        \n",
    "        # Save the workbook\n",
    "        book.save(excel_file)\n",
    "        \n",
    "        print(\"Data appended to Excel successfully.\")\n",
    "        \n",
    "    except FileNotFoundError:\n",
    "        # If the file doesn't exist, create a new Excel file and write the DataFrame\n",
    "        df.to_excel(excel_file, index=False)\n",
    "    print(\"Data written to a new Excel file successfully.\")\n",
    "\n",
    "expparams = [150,6,96,3,1,\"test\",\"DPPC\",\"Lyso\",\"Chol\"]\n",
    "exp_FRs = [100,80,40,20]\n",
    "start_t = 0\n",
    "wpindex = [1,2]\n",
    "volume = 50\n",
    "fr_perc_error = [0.05,0.04,0.03,0.02]\n",
    "repeat = 2\n",
    "savetoexcel(\"test\",\"Failed\",expparams,exp_FRs,wpindex,volume,fr_perc_error,repeat)"
   ]
  },
  {
   "cell_type": "code",
   "execution_count": 32,
   "metadata": {},
   "outputs": [
    {
     "name": "stdout",
     "output_type": "stream",
     "text": [
      "(0.2042820622996763, 78.26530325854581)\n"
     ]
    }
   ],
   "source": [
    "import math\n",
    "\n",
    "def tubedelay(tubingdim,set_FR,active_channels):\n",
    "    diameter = (math.pi)*(tubingdim[0]/2)**2\n",
    "    tube_t1 = (diameter*(tubingdim[1]*10))/np.min(set_FR[0:(len(active_channels)-1)])\n",
    "    tube_t2 = (diameter*(tubingdim[2]*10))/np.sum(set_FR)\n",
    "    tube_delay = (tube_t1 + tube_t2)*60 + 2\n",
    "    return diameter, tube_delay\n",
    "\n",
    "tubingdim = [0.51,20,20] \n",
    "set_FR = [50,40,0,0]\n",
    "active_chans = [1,2]\n",
    "\n",
    "0.817\n",
    "#40mm2 / 40ul\n",
    "\n",
    "print(tubedelay(tubingdim,set_FR,active_chans))\n"
   ]
  },
  {
   "cell_type": "code",
   "execution_count": 2,
   "metadata": {},
   "outputs": [
    {
     "name": "stdout",
     "output_type": "stream",
     "text": [
      "3595.029302781636\n"
     ]
    }
   ],
   "source": [
    "import math\n",
    "#Reynolds Number Calculator\n",
    "Density = 0.9/1000 #g/mm3\n",
    "flowspeed = (400/((math.pi)*(0.51/2)**2))*60 #mm/s\n",
    "CharLinearDim = 0.51 #mm\n",
    "DynamicViscosity = 0.015 #g/mms\n",
    "RN = (Density*flowspeed*CharLinearDim)/DynamicViscosity\n",
    "print(RN)\n"
   ]
  },
  {
   "cell_type": "code",
   "execution_count": 1,
   "metadata": {},
   "outputs": [
    {
     "name": "stdout",
     "output_type": "stream",
     "text": [
      "COM4 - Arduino NANO Every (COM4)\n",
      "COM4\n"
     ]
    },
    {
     "ename": "SerialException",
     "evalue": "could not open port 'COM4': PermissionError(13, 'Access is denied.', None, 5)",
     "output_type": "error",
     "traceback": [
      "\u001b[1;31m---------------------------------------------------------------------------\u001b[0m",
      "\u001b[1;31mSerialException\u001b[0m                           Traceback (most recent call last)",
      "Cell \u001b[1;32mIn[1], line 2\u001b[0m\n\u001b[0;32m      1\u001b[0m \u001b[38;5;28;01mimport\u001b[39;00m \u001b[38;5;21;01mexpel\u001b[39;00m\n\u001b[1;32m----> 2\u001b[0m ser \u001b[38;5;241m=\u001b[39m \u001b[43mexpel\u001b[49m\u001b[38;5;241;43m.\u001b[39;49m\u001b[43mserconnect\u001b[49m\u001b[43m(\u001b[49m\u001b[43m)\u001b[49m\n\u001b[0;32m      3\u001b[0m expel\u001b[38;5;241m.\u001b[39mflowswitch(ser,\u001b[38;5;241m1\u001b[39m)\n",
      "File \u001b[1;32mc:\\Users\\bdigg\\OneDrive\\Documents\\GitHub\\auto-LNP\\auto-LNP\\expel.py:18\u001b[0m, in \u001b[0;36mserconnect\u001b[1;34m()\u001b[0m\n\u001b[0;32m     16\u001b[0m serialport \u001b[38;5;241m=\u001b[39m \u001b[38;5;28mstr\u001b[39m(p\u001b[38;5;241m.\u001b[39mdevice)  \u001b[38;5;66;03m# just takes the port - i.e. COM3\u001b[39;00m\n\u001b[0;32m     17\u001b[0m \u001b[38;5;28mprint\u001b[39m(serialport)\n\u001b[1;32m---> 18\u001b[0m ser \u001b[38;5;241m=\u001b[39m \u001b[43mserial\u001b[49m\u001b[38;5;241;43m.\u001b[39;49m\u001b[43mSerial\u001b[49m\u001b[43m(\u001b[49m\n\u001b[0;32m     19\u001b[0m \u001b[43m    \u001b[49m\u001b[43mserialport\u001b[49m\u001b[43m,\u001b[49m\u001b[43m \u001b[49m\u001b[43mbaudrate\u001b[49m\u001b[38;5;241;43m=\u001b[39;49m\u001b[38;5;241;43m115200\u001b[39;49m\u001b[43m,\u001b[49m\u001b[43m \u001b[49m\u001b[43mtimeout\u001b[49m\u001b[38;5;241;43m=\u001b[39;49m\u001b[38;5;241;43m30\u001b[39;49m\n\u001b[0;32m     20\u001b[0m \u001b[43m\u001b[49m\u001b[43m)\u001b[49m  \u001b[38;5;66;03m# then updates ser to take into account serial port\u001b[39;00m\n\u001b[0;32m     21\u001b[0m \u001b[38;5;28mprint\u001b[39m(\u001b[38;5;124m\"\u001b[39m\u001b[38;5;124mConnected to \u001b[39m\u001b[38;5;124m\"\u001b[39m \u001b[38;5;241m+\u001b[39m serialport \u001b[38;5;241m+\u001b[39m \u001b[38;5;124m\"\u001b[39m\u001b[38;5;130;01m\\n\u001b[39;00m\u001b[38;5;124m\"\u001b[39m)\n\u001b[0;32m     22\u001b[0m \u001b[38;5;66;03m#for i in range(3):\u001b[39;00m\n",
      "File \u001b[1;32mc:\\Users\\bdigg\\miniconda3\\envs\\autolnp\\Lib\\site-packages\\serial\\serialwin32.py:33\u001b[0m, in \u001b[0;36mSerial.__init__\u001b[1;34m(self, *args, **kwargs)\u001b[0m\n\u001b[0;32m     31\u001b[0m \u001b[38;5;28mself\u001b[39m\u001b[38;5;241m.\u001b[39m_overlapped_read \u001b[38;5;241m=\u001b[39m \u001b[38;5;28;01mNone\u001b[39;00m\n\u001b[0;32m     32\u001b[0m \u001b[38;5;28mself\u001b[39m\u001b[38;5;241m.\u001b[39m_overlapped_write \u001b[38;5;241m=\u001b[39m \u001b[38;5;28;01mNone\u001b[39;00m\n\u001b[1;32m---> 33\u001b[0m \u001b[38;5;28;43msuper\u001b[39;49m\u001b[43m(\u001b[49m\u001b[43mSerial\u001b[49m\u001b[43m,\u001b[49m\u001b[43m \u001b[49m\u001b[38;5;28;43mself\u001b[39;49m\u001b[43m)\u001b[49m\u001b[38;5;241;43m.\u001b[39;49m\u001b[38;5;21;43m__init__\u001b[39;49m\u001b[43m(\u001b[49m\u001b[38;5;241;43m*\u001b[39;49m\u001b[43margs\u001b[49m\u001b[43m,\u001b[49m\u001b[43m \u001b[49m\u001b[38;5;241;43m*\u001b[39;49m\u001b[38;5;241;43m*\u001b[39;49m\u001b[43mkwargs\u001b[49m\u001b[43m)\u001b[49m\n",
      "File \u001b[1;32mc:\\Users\\bdigg\\miniconda3\\envs\\autolnp\\Lib\\site-packages\\serial\\serialutil.py:244\u001b[0m, in \u001b[0;36mSerialBase.__init__\u001b[1;34m(self, port, baudrate, bytesize, parity, stopbits, timeout, xonxoff, rtscts, write_timeout, dsrdtr, inter_byte_timeout, exclusive, **kwargs)\u001b[0m\n\u001b[0;32m    241\u001b[0m     \u001b[38;5;28;01mraise\u001b[39;00m \u001b[38;5;167;01mValueError\u001b[39;00m(\u001b[38;5;124m'\u001b[39m\u001b[38;5;124munexpected keyword arguments: \u001b[39m\u001b[38;5;132;01m{!r}\u001b[39;00m\u001b[38;5;124m'\u001b[39m\u001b[38;5;241m.\u001b[39mformat(kwargs))\n\u001b[0;32m    243\u001b[0m \u001b[38;5;28;01mif\u001b[39;00m port \u001b[38;5;129;01mis\u001b[39;00m \u001b[38;5;129;01mnot\u001b[39;00m \u001b[38;5;28;01mNone\u001b[39;00m:\n\u001b[1;32m--> 244\u001b[0m     \u001b[38;5;28;43mself\u001b[39;49m\u001b[38;5;241;43m.\u001b[39;49m\u001b[43mopen\u001b[49m\u001b[43m(\u001b[49m\u001b[43m)\u001b[49m\n",
      "File \u001b[1;32mc:\\Users\\bdigg\\miniconda3\\envs\\autolnp\\Lib\\site-packages\\serial\\serialwin32.py:64\u001b[0m, in \u001b[0;36mSerial.open\u001b[1;34m(self)\u001b[0m\n\u001b[0;32m     62\u001b[0m \u001b[38;5;28;01mif\u001b[39;00m \u001b[38;5;28mself\u001b[39m\u001b[38;5;241m.\u001b[39m_port_handle \u001b[38;5;241m==\u001b[39m win32\u001b[38;5;241m.\u001b[39mINVALID_HANDLE_VALUE:\n\u001b[0;32m     63\u001b[0m     \u001b[38;5;28mself\u001b[39m\u001b[38;5;241m.\u001b[39m_port_handle \u001b[38;5;241m=\u001b[39m \u001b[38;5;28;01mNone\u001b[39;00m    \u001b[38;5;66;03m# 'cause __del__ is called anyway\u001b[39;00m\n\u001b[1;32m---> 64\u001b[0m     \u001b[38;5;28;01mraise\u001b[39;00m SerialException(\u001b[38;5;124m\"\u001b[39m\u001b[38;5;124mcould not open port \u001b[39m\u001b[38;5;132;01m{!r}\u001b[39;00m\u001b[38;5;124m: \u001b[39m\u001b[38;5;132;01m{!r}\u001b[39;00m\u001b[38;5;124m\"\u001b[39m\u001b[38;5;241m.\u001b[39mformat(\u001b[38;5;28mself\u001b[39m\u001b[38;5;241m.\u001b[39mportstr, ctypes\u001b[38;5;241m.\u001b[39mWinError()))\n\u001b[0;32m     66\u001b[0m \u001b[38;5;28;01mtry\u001b[39;00m:\n\u001b[0;32m     67\u001b[0m     \u001b[38;5;28mself\u001b[39m\u001b[38;5;241m.\u001b[39m_overlapped_read \u001b[38;5;241m=\u001b[39m win32\u001b[38;5;241m.\u001b[39mOVERLAPPED()\n",
      "\u001b[1;31mSerialException\u001b[0m: could not open port 'COM4': PermissionError(13, 'Access is denied.', None, 5)"
     ]
    }
   ],
   "source": [
    "import expel\n",
    "ser = expel.serconnect()\n",
    "expel.flowswitch(ser,1)"
   ]
  },
  {
   "cell_type": "code",
   "execution_count": 2,
   "metadata": {},
   "outputs": [],
   "source": [
    "expel.flowswitch(ser,0)"
   ]
  },
  {
   "cell_type": "code",
   "execution_count": 4,
   "metadata": {},
   "outputs": [],
   "source": [
    "expel.flowswitch(ser,1)"
   ]
  },
  {
   "cell_type": "code",
   "execution_count": 8,
   "metadata": {},
   "outputs": [],
   "source": [
    "expel.setdirection(ser,\"Vert\",\"Towards\")\n",
    "expel.setdirection(ser,\"Horz\",\"Towards\")"
   ]
  },
  {
   "cell_type": "code",
   "execution_count": 6,
   "metadata": {},
   "outputs": [],
   "source": [
    "expel.setdirection(ser,\"Vert\",\"Away\")\n",
    "expel.setdirection(ser,\"Horz\",\"Away\")"
   ]
  },
  {
   "cell_type": "code",
   "execution_count": 9,
   "metadata": {},
   "outputs": [],
   "source": [
    "#In Vert, 6000 steps is 225mm \n",
    "#In horz, 6000 steps is same\n",
    "\n",
    "expel.setstep(ser,25,0)\n",
    "\n",
    "#V 50 towards\n",
    "#H 175 towards\n"
   ]
  },
  {
   "cell_type": "code",
   "execution_count": 3,
   "metadata": {},
   "outputs": [],
   "source": [
    "def setstep(ser,stepsV,stepsH):\n",
    "    writestring = \"<B\" + str(stepsV) + \",\" + str(stepsH) + \">\"\n",
    "    bytestowrite = writestring.encode()  # encodes the string to UTF-8\n",
    "    ser.write(bytestowrite)  # sending the data\n",
    "    b = ser.readline()\n",
    "    readstring = b.decode(\"utf-8\")\n",
    "\n",
    "setstep(ser,1000,500)"
   ]
  },
  {
   "cell_type": "code",
   "execution_count": 10,
   "metadata": {},
   "outputs": [],
   "source": [
    "expel.home(ser)\n",
    "expel.setdirection(ser,\"Vert\",\"Away\")\n",
    "expel.setdirection(ser,\"Horz\",\"Away\")"
   ]
  },
  {
   "cell_type": "code",
   "execution_count": 5,
   "metadata": {},
   "outputs": [
    {
     "name": "stdout",
     "output_type": "stream",
     "text": [
      "To home and first well\n"
     ]
    }
   ],
   "source": [
    "expel.homeandfirst(ser)"
   ]
  },
  {
   "cell_type": "code",
   "execution_count": 16,
   "metadata": {},
   "outputs": [
    {
     "name": "stdout",
     "output_type": "stream",
     "text": [
      "239.28571428571428 -2637.5\n"
     ]
    }
   ],
   "source": [
    "expel.nextwell(ser,[1,12],[2,1])"
   ]
  }
 ],
 "metadata": {
  "kernelspec": {
   "display_name": "autolnp",
   "language": "python",
   "name": "python3"
  },
  "language_info": {
   "codemirror_mode": {
    "name": "ipython",
    "version": 3
   },
   "file_extension": ".py",
   "mimetype": "text/x-python",
   "name": "python",
   "nbconvert_exporter": "python",
   "pygments_lexer": "ipython3",
   "version": "3.12.1"
  }
 },
 "nbformat": 4,
 "nbformat_minor": 2
}
