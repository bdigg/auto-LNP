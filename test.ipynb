{
 "cells": [
  {
   "cell_type": "code",
   "execution_count": 2,
   "metadata": {},
   "outputs": [
    {
     "name": "stdout",
     "output_type": "stream",
     "text": [
      "Data appended to Excel successfully.\n"
     ]
    }
   ],
   "source": [
    "import pump\n",
    "import sys\n",
    "import os\n",
    "import time\n",
    "import matplotlib.pyplot as plt\n",
    "import numpy as np\n",
    "import threading\n",
    "import expel\n",
    "import pandas as pd\n",
    "from openpyxl import load_workbook\n",
    "from datetime import datetime\n",
    "\n",
    "def savetoexcel(exp_name,status,expparams,exp_FRs,wpindex,volume,fr_perc_error,repeat):\n",
    "    data = {\n",
    "        'ExpName': [exp_name],\n",
    "        'State': [status],\n",
    "        'RepeatNum': [repeat],\n",
    "        'Time': [datetime.now().strftime('%H:%M:%S')],\n",
    "        'Date': [(datetime.today().strftime('%Y-%m-%d'))],\n",
    "        'WPIndex': [wpindex],\n",
    "        'FRR': [expparams[1]],  \n",
    "        'TotalFR': [expparams[0]],  \n",
    "        'Volume': [volume],\n",
    "        'Buf-Name': [expparams[5]],\n",
    "        'Buf-FR': [exp_FRs[0]],\n",
    "        'Buf-FRer': [fr_perc_error[0]],\n",
    "        'Lp1-Name': [expparams[6]],\n",
    "        'Lp1-Comp': [expparams[2]],\n",
    "        'Lp1-FR': [exp_FRs[1]],\n",
    "        'Lp1-FRer': [fr_perc_error[1]],\n",
    "        'Lp2-Name': [expparams[7]],\n",
    "        'Lp2-Comp': [expparams[3]],\n",
    "        'Lp2-FR': [exp_FRs[2]],\n",
    "        'Lp2-FRer': [fr_perc_error[2]],\n",
    "        'Lp3-Name': [expparams[8]],\n",
    "        'Lp3-Comp': [expparams[4]],\n",
    "        'Lp3-FR': [exp_FRs[3]],\n",
    "        'Lp3-FRer': [fr_perc_error[3]],        \n",
    "    }\n",
    "\n",
    "    # Convert data to DataFrame\n",
    "    df = pd.DataFrame(data)\n",
    "\n",
    "    # Excel file name\n",
    "    excel_file = 'ExperimentLog.xlsx'\n",
    "\n",
    "    # Check if the Excel file already exists\n",
    "    try:\n",
    "        with pd.ExcelWriter(excel_file, engine='openpyxl', mode='a') as writer:\n",
    "            writer.book = load_workbook(excel_file)\n",
    "            writer.sheets = {ws.title: ws for ws in writer.book.worksheets}\n",
    "            # Append DataFrame to the existing sheet\n",
    "            df.to_excel(writer, sheet_name='Sheet1', index=False, header=False, startrow=writer.sheets['Sheet1'].max_row)\n",
    "    except FileNotFoundError:\n",
    "        # If the file doesn't exist, create a new Excel file and write the DataFrame\n",
    "        df.to_excel(excel_file, index=False)\n",
    "\n",
    "    print(\"Data appended to Excel successfully.\")\n",
    "\n",
    "expparams = [150,6,96,3,1,\"meep\",\"DPPC\",\"Lyso\",\"Chol\"]\n",
    "exp_FRs = [100,80,40,20]\n",
    "start_t = 0\n",
    "wpindex = [1,2]\n",
    "volume = 50\n",
    "fr_perc_error = [0.05,0.04,0.03,0.02]\n",
    "repeat = 2\n",
    "savetoexcel(\"test\",\"Complete\",expparams,exp_FRs,wpindex,volume,fr_perc_error,repeat)"
   ]
  }
 ],
 "metadata": {
  "kernelspec": {
   "display_name": "autolnp",
   "language": "python",
   "name": "python3"
  },
  "language_info": {
   "codemirror_mode": {
    "name": "ipython",
    "version": 3
   },
   "file_extension": ".py",
   "mimetype": "text/x-python",
   "name": "python",
   "nbconvert_exporter": "python",
   "pygments_lexer": "ipython3",
   "version": "3.12.1"
  }
 },
 "nbformat": 4,
 "nbformat_minor": 2
}
