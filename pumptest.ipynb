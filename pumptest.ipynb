{
 "cells": [
  {
   "cell_type": "code",
   "execution_count": 6,
   "metadata": {},
   "outputs": [],
   "source": [
    "#Install packages for pressure devices\n",
    "import sys\n",
    "from email.header import UTF8\n",
    "sys.path.append('./DLL64')\n",
    "sys.path.append('./Elveflow64.py')\n",
    "from ctypes import *\n",
    "from array import array\n",
    "from Elveflow64 import *\n",
    "import time\n",
    "import matplotlib as plt\n",
    "\n",
    "Instr_ID = c_int64()"
   ]
  },
  {
   "cell_type": "code",
   "execution_count": 14,
   "metadata": {},
   "outputs": [],
   "source": [
    "\n",
    "#Input the setup type\n",
    "def pressure_init():\n",
    "    print(\"Instrument name and regulator types are hardcoded in the Python script\")\n",
    "    #Insert Machine Code HERE\n",
    "    error = OB1_Initialization('COM1'.encode('ascii'),1,1,1,1,byref(Instr_ID)) \n",
    "    print('error:%d' % error)\n",
    "    print(\"OB1 ID: %d\" % Instr_ID.value)\n",
    "\n",
    "def sensor_init():\n",
    "    error=OB1_Add_Sens(Instr_ID, 1, 10, 0, 0, 7, 0)\n",
    "    print('error add digit flow sensor:%d' % error)\n",
    "\n",
    "def pressure_calib(answer):\n",
    "    Calib = (c_double*1000)() # Always define array this way, calibration should have 1000 elements\n",
    "    while True:\n",
    "        Calib_path = 'C:\\\\Users\\\\Public\\\\Desktop\\\\Calibration\\\\Calib.txt'\n",
    "        if answer == 'default':\n",
    "            error = Elveflow_Calibration_Default (byref(Calib),1000)\n",
    "            break\n",
    "            \n",
    "        if answer == 'load':\n",
    "            error = Elveflow_Calibration_Load (Calib_path.encode('ascii'), byref(Calib), 1000)\n",
    "            break\n",
    "            \n",
    "        if answer == 'new':\n",
    "            OB1_Calib (Instr_ID.value, Calib, 1000)\n",
    "            error = Elveflow_Calibration_Save(Calib_path.encode('ascii'), byref(Calib), 1000)\n",
    "            print('Calib saved in %s' % Calib_path.encode('ascii'))\n",
    "            break\n",
    "\n",
    "def set_pressure(set_channel,set_pressure):\n",
    "    Calib = (c_double*1000)()\n",
    "    set_channel=int(set_channel) # convert to int\n",
    "    set_channel=c_int32(set_channel) # convert to c_int32\n",
    "    set_pressure=float(set_pressure) \n",
    "    set_pressure=c_double(set_pressure) # convert to c_double\n",
    "    error=OB1_Set_Press(Instr_ID.value, set_channel, set_pressure, byref(Calib),1000) \n",
    "    return error \n",
    "\n",
    "def get_sensor_data(sensor_channel):\n",
    "    data_sens=c_double()\n",
    "    set_channel=int(sensor_channel) # convert to int\n",
    "    set_channel=c_int32(sensor_channel) # convert to c_int32\n",
    "    error=OB1_Get_Sens_Data(Instr_ID.value,set_channel, 1,byref(data_sens)) # Acquire_data=1 -> read all the analog values\n",
    "    return data_sens.value, error\n",
    "\n",
    "def get_pressure_data(press_channel):\n",
    "    Calib = (c_double*1000)()\n",
    "    set_channel=c_int32( int(press_channel) ) # convert to c_int32\n",
    "    get_pressure=c_double()\n",
    "    error=OB1_Get_Press(Instr_ID.value, set_channel, 1, byref(Calib),byref(get_pressure), 1000) # Acquire_data=1 -> read all the analog values\n",
    "    return get_pressure.value, error\n",
    "#Input cell \n",
    "\n",
    "#Run simple pressure\n",
    "\n",
    "period = 0.1 # 10Hz\n",
    "p_error = 0\n",
    "i_error = 0\n",
    "meas_flow = c_double()\n",
    "\n",
    "def pid_run():\n",
    "    global p_error\n",
    "    global i_error\n",
    "    Calib = (c_double*1000)()\n",
    "    start_t = time.time() # <- This must be close to the routine\n",
    "    last_t = start_t\n",
    "    # Main routine\n",
    "    while True:\n",
    "        # Get the current output\n",
    "        error=OB1_Get_Sens_Data(Instr_ID.value, fs_channel, 1, byref(meas_flow))\n",
    "        flow_list.append(meas_flow.value)\n",
    "\n",
    "        # Calculate the mathematical error\n",
    "        p_error = ref_flow - meas_flow.value\n",
    "        i_error += p_error\n",
    "        # PI Controller equations\n",
    "        P_val = K_p * p_error\n",
    "        I_val = K_i * i_error\n",
    "        # Anti-windup\n",
    "        I_val = max(I_min, min(I_max, I_val))\n",
    "        # Final control action\n",
    "        p_control = P_val + I_val\n",
    "        p_control = max(p_min, min(p_max, p_control)) # Safety saturation\n",
    "\n",
    "        error_list.append(p_error)\n",
    "        control_list.append(p_control)\n",
    "\n",
    "        p_control=c_double( float(p_control) ) # Convert to c_double\n",
    "        error=OB1_Set_Press(Instr_ID.value, p_channel, p_control, byref(Calib), 1000) # Return error message\n",
    "\n",
    "        # Check if the elapsed time match the time limit\n",
    "        if (time.time() - start_t) > experiment_t:\n",
    "            break\n",
    "        # Wait until desired period time\n",
    "        sleep_t = period - (time.time() - last_t)\n",
    "        if sleep_t > 0:\n",
    "            time.sleep( sleep_t )\n",
    "        last_t = time.time() # And update the last time\n",
    "\n",
    "    # Turn off the pressure\n",
    "    p_control = 0.0\n",
    "    error=OB1_Set_Press(Instr_ID.value, p_channel, p_control, byref(Calib), 1000) # Return error message\n",
    "\n",
    "    \n",
    "def plot():\n",
    "    # Plot the signals\n",
    "    plt.rcParams['axes.grid'] = True\n",
    "    fig=plt.figure()\n",
    "    fig.suptitle(\"Microfluidic Circuit Control at {0:.2f}Hz\".format(1/period))\n",
    "\n",
    "    plt.subplot(2,1,1)\n",
    "    plt.plot( flow_list )\n",
    "    plt.ylabel('flow [uL/min]')\n",
    "    plt.subplot(2,1,2)\n",
    "    plt.plot( control_list )\n",
    "    plt.ylabel('pressure [mbar]')\n",
    "\n",
    "    \n",
    "def run():\n",
    "    pid_run()\n",
    "    plot()\n",
    "\n",
    "# Controller parameters: Very soft controller\n",
    "K_p = 0.05 # <- Change this value to tune the controller\n",
    "K_i = 0.1 # <- Change this value too to tune the controller\n",
    "ref_flow = 60 # uL/min\n",
    "\n",
    "p_min = 0 # <- This is only negative if you have some vacuum source\n",
    "p_max = 100 # <- This depends on the Z regulator of each channel\n",
    "\n",
    "# OB1 arrangement\n",
    "p_channel = 2 # <- Change this to\n",
    "fs_channel = 2 # <- your real configuration\n",
    "\n",
    "experiment_t = 10.0 # Seconds\n",
    "flow_list = []\n",
    "error_list = []\n",
    "control_list = []\n",
    "\n",
    "#run()"
   ]
  },
  {
   "cell_type": "code",
   "execution_count": 15,
   "metadata": {},
   "outputs": [
    {
     "name": "stdout",
     "output_type": "stream",
     "text": [
      "Instrument name and regulator types are hardcoded in the Python script\n"
     ]
    },
    {
     "ename": "ArgumentError",
     "evalue": "argument 6: TypeError: expected LP_c_long instance instead of pointer to c_longlong",
     "output_type": "error",
     "traceback": [
      "\u001b[1;31m---------------------------------------------------------------------------\u001b[0m",
      "\u001b[1;31mArgumentError\u001b[0m                             Traceback (most recent call last)",
      "Cell \u001b[1;32mIn[15], line 1\u001b[0m\n\u001b[1;32m----> 1\u001b[0m \u001b[43mpressure_init\u001b[49m\u001b[43m(\u001b[49m\u001b[43m)\u001b[49m\n",
      "Cell \u001b[1;32mIn[14], line 5\u001b[0m, in \u001b[0;36mpressure_init\u001b[1;34m()\u001b[0m\n\u001b[0;32m      3\u001b[0m \u001b[38;5;28mprint\u001b[39m(\u001b[38;5;124m\"\u001b[39m\u001b[38;5;124mInstrument name and regulator types are hardcoded in the Python script\u001b[39m\u001b[38;5;124m\"\u001b[39m)\n\u001b[0;32m      4\u001b[0m \u001b[38;5;66;03m#Insert Machine Code HERE\u001b[39;00m\n\u001b[1;32m----> 5\u001b[0m error \u001b[38;5;241m=\u001b[39m \u001b[43mOB1_Initialization\u001b[49m\u001b[43m(\u001b[49m\u001b[38;5;124;43m'\u001b[39;49m\u001b[38;5;124;43mCOM1\u001b[39;49m\u001b[38;5;124;43m'\u001b[39;49m\u001b[38;5;241;43m.\u001b[39;49m\u001b[43mencode\u001b[49m\u001b[43m(\u001b[49m\u001b[38;5;124;43m'\u001b[39;49m\u001b[38;5;124;43mascii\u001b[39;49m\u001b[38;5;124;43m'\u001b[39;49m\u001b[43m)\u001b[49m\u001b[43m,\u001b[49m\u001b[38;5;241;43m0\u001b[39;49m\u001b[43m,\u001b[49m\u001b[38;5;241;43m0\u001b[39;49m\u001b[43m,\u001b[49m\u001b[38;5;241;43m0\u001b[39;49m\u001b[43m,\u001b[49m\u001b[38;5;241;43m0\u001b[39;49m\u001b[43m,\u001b[49m\u001b[43mbyref\u001b[49m\u001b[43m(\u001b[49m\u001b[43mInstr_ID\u001b[49m\u001b[43m)\u001b[49m\u001b[43m)\u001b[49m \n\u001b[0;32m      6\u001b[0m \u001b[38;5;28mprint\u001b[39m(\u001b[38;5;124m'\u001b[39m\u001b[38;5;124merror:\u001b[39m\u001b[38;5;132;01m%d\u001b[39;00m\u001b[38;5;124m'\u001b[39m \u001b[38;5;241m%\u001b[39m error)\n\u001b[0;32m      7\u001b[0m \u001b[38;5;28mprint\u001b[39m(\u001b[38;5;124m\"\u001b[39m\u001b[38;5;124mOB1 ID: \u001b[39m\u001b[38;5;132;01m%d\u001b[39;00m\u001b[38;5;124m\"\u001b[39m \u001b[38;5;241m%\u001b[39m Instr_ID\u001b[38;5;241m.\u001b[39mvalue)\n",
      "File \u001b[1;32mc:\\Users\\bdigg\\OneDrive\\Documents\\GitHub\\auto-LNP\\auto-LNP\\Elveflow64.py:69\u001b[0m, in \u001b[0;36mOB1_Initialization\u001b[1;34m(Device_Name, Reg_Ch_1, Reg_Ch_2, Reg_Ch_3, Reg_Ch_4, OB1_ID_out)\u001b[0m\n\u001b[0;32m     67\u001b[0m X_OB1_Initialization\u001b[38;5;241m=\u001b[39mElveflowDLL\u001b[38;5;241m.\u001b[39mOB1_Initialization\n\u001b[0;32m     68\u001b[0m X_OB1_Initialization\u001b[38;5;241m.\u001b[39margtypes\u001b[38;5;241m=\u001b[39m[c_char_p, c_uint16, c_uint16, c_uint16, c_uint16, POINTER(c_int32)]\n\u001b[1;32m---> 69\u001b[0m \u001b[38;5;28;01mreturn\u001b[39;00m \u001b[43mX_OB1_Initialization\u001b[49m\u001b[43m \u001b[49m\u001b[43m(\u001b[49m\u001b[43mDevice_Name\u001b[49m\u001b[43m,\u001b[49m\u001b[43m \u001b[49m\u001b[43mReg_Ch_1\u001b[49m\u001b[43m,\u001b[49m\u001b[43m \u001b[49m\u001b[43mReg_Ch_2\u001b[49m\u001b[43m,\u001b[49m\u001b[43m \u001b[49m\u001b[43mReg_Ch_3\u001b[49m\u001b[43m,\u001b[49m\u001b[43m \u001b[49m\u001b[43mReg_Ch_4\u001b[49m\u001b[43m,\u001b[49m\u001b[43m \u001b[49m\u001b[43mOB1_ID_out\u001b[49m\u001b[43m)\u001b[49m\n",
      "\u001b[1;31mArgumentError\u001b[0m: argument 6: TypeError: expected LP_c_long instance instead of pointer to c_longlong"
     ]
    }
   ],
   "source": [
    "pressure_init()"
   ]
  },
  {
   "cell_type": "code",
   "execution_count": null,
   "metadata": {},
   "outputs": [],
   "source": [
    "sensor_init()"
   ]
  },
  {
   "cell_type": "code",
   "execution_count": null,
   "metadata": {},
   "outputs": [],
   "source": [
    "pressure_calib(\"new\")"
   ]
  },
  {
   "cell_type": "code",
   "execution_count": null,
   "metadata": {},
   "outputs": [],
   "source": [
    "set_pressure(1, 50)"
   ]
  },
  {
   "cell_type": "code",
   "execution_count": null,
   "metadata": {},
   "outputs": [],
   "source": [
    "get_sensor_data(1)"
   ]
  },
  {
   "cell_type": "code",
   "execution_count": null,
   "metadata": {},
   "outputs": [],
   "source": [
    "get_pressure_data(1)"
   ]
  },
  {
   "cell_type": "code",
   "execution_count": null,
   "metadata": {},
   "outputs": [],
   "source": [
    "run()"
   ]
  }
 ],
 "metadata": {
  "kernelspec": {
   "display_name": "autolnp",
   "language": "python",
   "name": "python3"
  },
  "language_info": {
   "codemirror_mode": {
    "name": "ipython",
    "version": 3
   },
   "file_extension": ".py",
   "mimetype": "text/x-python",
   "name": "python",
   "nbconvert_exporter": "python",
   "pygments_lexer": "ipython3",
   "version": "3.12.1"
  }
 },
 "nbformat": 4,
 "nbformat_minor": 2
}
