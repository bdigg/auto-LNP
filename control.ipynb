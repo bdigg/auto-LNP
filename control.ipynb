{
 "cells": [
  {
   "cell_type": "code",
   "execution_count": 20,
   "metadata": {},
   "outputs": [],
   "source": [
    "#Install Packages\n",
    "from tkinter import *\n",
    "import customtkinter\n",
    "import tkinter.messagebox\n",
    "import time\n",
    "import sqlite3\n",
    "from sqlite3 import Error"
   ]
  },
  {
   "cell_type": "markdown",
   "metadata": {},
   "source": [
    "GUI"
   ]
  },
  {
   "cell_type": "code",
   "execution_count": 24,
   "metadata": {},
   "outputs": [
    {
     "name": "stdout",
     "output_type": "stream",
     "text": [
      "setup_button click\n",
      "test\n",
      "setup_button click\n",
      "test2\n"
     ]
    }
   ],
   "source": [
    "#Setup Gui\n",
    "customtkinter.set_appearance_mode(\"Dark\")  # Modes: \"System\" (standard), \"Dark\", \"Light\"\n",
    "customtkinter.set_default_color_theme(\"green\")  # Themes: \"blue\" (standard), \"green\", \"dark-blue\"\n",
    "\n",
    "class App(customtkinter.CTk):\n",
    "    def __init__(self):\n",
    "        super().__init__()\n",
    "\n",
    "    # configure grid layout (4x4)\n",
    "        self.grid_columnconfigure((0, 4), weight=0)\n",
    "        self.grid_columnconfigure((2, 3), weight=1)\n",
    "        self.grid_rowconfigure((0, 1, 2), weight=1)\n",
    "    \n",
    "        self.geometry(\"1280x720\")\n",
    "        #button = customtkinter.CTkButton(master=self,text=\"Ey\")\n",
    "        #button.place(relx=0.5, rely=0.5, anchor=CENTER)\n",
    "        #self.mainloop()\n",
    "    #sidebar frame left buttons\n",
    "        self.sidebar_frame = customtkinter.CTkFrame(self, corner_radius=0)\n",
    "        self.sidebar_frame.grid(row=0, column=0, rowspan=4, sticky=\"nsew\")\n",
    "        self.sidebar_frame.grid_rowconfigure(4, weight=0)\n",
    "        self.logo_label = customtkinter.CTkLabel(self.sidebar_frame, text=\"AutoMF\", font=customtkinter.CTkFont(size=30, weight=\"bold\"))\n",
    "        self.logo_label.grid(row=0, column=0, padx=20, pady=(20, 10))\n",
    "        self.sidebar_button_1 = customtkinter.CTkButton(self.sidebar_frame, text=\"Platform Setup\", command=self.setup_button_event)\n",
    "        self.sidebar_button_1.grid(row=1, column=0, padx=20, pady=10)\n",
    "        self.setup_window = None\n",
    "        self.sidebar_button_2 = customtkinter.CTkButton(self.sidebar_frame, text=\"Load Experiments\", command=self.sidebar_button_event)\n",
    "        self.sidebar_button_2.grid(row=2, column=0, padx=20, pady=10)\n",
    "        self.sidebar_button_3 = customtkinter.CTkButton(self.sidebar_frame, text=\"Operation Settings\", command=self.sidebar_button_event)\n",
    "        self.sidebar_button_3.grid(row=3, column=0, padx=20, pady=10)\n",
    "\n",
    "\n",
    "    #sidebar frame right queue\n",
    "        self.sidebar_frame2 = customtkinter.CTkFrame(self, width=250, corner_radius=0)\n",
    "        self.sidebar_frame2.grid(row=0, column=4, rowspan=4, sticky=\"nsew\")\n",
    "        self.sidebar_frame2.grid_rowconfigure(4, weight=0)\n",
    "        self.queue_label = customtkinter.CTkLabel(self.sidebar_frame2, text=\"Queue\", font=customtkinter.CTkFont(size=30, weight=\"bold\"))\n",
    "        self.queue_label.grid(row=0, column=0, padx=20, pady=(20, 10))\n",
    "        #Queued step\n",
    "        #for x in     \n",
    "        self.queued1 = customtkinter.CTkButton(self.sidebar_frame2, text=\"12X13Y28Z\", anchor=\"center\", fg_color=\"transparent\", corner_radius=0, border_color=\"white\")\n",
    "        self.queued1.grid(row=1, column=0, padx=20, pady=(10, 0))\n",
    "        self.queued2 = customtkinter.CTkButton(self.sidebar_frame2, text=\"12X13Y28Z\", anchor=\"center\", fg_color=\"transparent\", corner_radius=0, border_color=\"white\")\n",
    "        self.queued2.grid(row=2, column=0, padx=20, pady=(10, 0))\n",
    "        self.queued3 = customtkinter.CTkButton(self.sidebar_frame2, text=\"12X13Y28Z\", anchor=\"center\", fg_color=\"transparent\", corner_radius=0, border_color=\"white\")\n",
    "        self.queued3.grid(row=3, column=0, padx=20, pady=(10, 0))\n",
    "        self.queued4 = customtkinter.CTkButton(self.sidebar_frame2, text=\"12X13Y28Z\", anchor=\"center\", fg_color=\"transparent\", corner_radius=0, border_color=\"white\")\n",
    "        self.queued4.grid(row=4, column=0, padx=20, pady=(10, 0))\n",
    "\n",
    "    # create main entry and button\n",
    "        self.entry = customtkinter.CTkEntry(self, placeholder_text=\"CTkEntry\")\n",
    "        self.entry.grid(row=3, column=2, columnspan=1, padx=(20, 0), pady=(20, 20), sticky=\"nsew\")\n",
    "\n",
    "        self.main_button_1 = customtkinter.CTkButton(master=self, fg_color=\"transparent\", border_width=2, text_color=(\"gray10\", \"#DCE4EE\"))\n",
    "        self.main_button_1.grid(row=3, column=3, padx=(20, 20), pady=(20, 20), sticky=\"nsew\")\n",
    "\n",
    "    def open_input_dialog_event(self):\n",
    "        dialog = customtkinter.CTkInputDialog(text=\"Type in a number:\", title=\"CTkInputDialog\")\n",
    "        print(\"CTkInputDialog:\", dialog.get_input())\n",
    "    \n",
    "    def open_setup(self):\n",
    "        if self.setup_window is None or not self.setup_window.winfo_exists():\n",
    "            self.setup_window = SetupWindow(self)\n",
    "            print(\"test\") # create window if its None or destroyed\n",
    "        else:\n",
    "            self.setup_window.focus()  # if window exists focus it  \n",
    "            print(\"test2\") \n",
    "\n",
    "\n",
    "    def sidebar_button_event(self):\n",
    "        print(\"sidebar_button click\")        \n",
    "\n",
    "    def setup_button_event(self):\n",
    "        print(\"setup_button click\") \n",
    "        self.open_setup()\n",
    "\n",
    "\n",
    "\n",
    "class SetupWindow(customtkinter.CTkToplevel):\n",
    "    def __init__(setupself, *args, **kwargs):\n",
    "        super().__init__(*args, **kwargs)\n",
    "        setupself.geometry(\"400x300\")\n",
    "        setupself.title(\"Setup\")\n",
    "        setupself.grid_columnconfigure((0, 1), weight=0)\n",
    "        setupself.grid_rowconfigure((0, 1, 2, 3), weight=1)\n",
    "        setupself.platform_label = customtkinter.CTkLabel(setupself, text=\"Setup\", font=customtkinter.CTkFont(size=30, weight=\"bold\"))\n",
    "        setupself.platform_label.pack(side=\"top\",padx=20)\n",
    "        \n",
    "        setupself.platformlabel = customtkinter.CTkLabel(setupself, text=\"Setup\")\n",
    "        setupself.platformlabel.pack(padx=20, pady=20)\n",
    "if __name__ == \"__main__\":\n",
    "    app = App()\n",
    "    app.mainloop()\n"
   ]
  },
  {
   "cell_type": "code",
   "execution_count": 23,
   "metadata": {},
   "outputs": [
    {
     "name": "stdout",
     "output_type": "stream",
     "text": [
      "2.6.0\n"
     ]
    },
    {
     "name": "stderr",
     "output_type": "stream",
     "text": [
      "C:\\Users\\bdigg\\AppData\\Local\\Temp\\ipykernel_16404\\637946564.py:8: DeprecationWarning: version is deprecated and will be removed in Python 3.14\n",
      "  print(sqlite3.version)\n"
     ]
    }
   ],
   "source": [
    "#Setup Database\n",
    "\n",
    "def create_connection(db_file):\n",
    "    \"\"\" create a database connection to a SQLite database \"\"\"\n",
    "    conn = None\n",
    "    try:\n",
    "        conn = sqlite3.connect(db_file)\n",
    "        print(sqlite3.version)\n",
    "    except Error as e:\n",
    "        print(e)\n",
    "    finally:\n",
    "        if conn:\n",
    "            conn.close()\n",
    "\n",
    "\n",
    "if __name__ == '__main__':\n",
    "    create_connection(r\".\\pythonsqlite.db\")\n",
    "\n",
    "    \n"
   ]
  },
  {
   "cell_type": "markdown",
   "metadata": {},
   "source": [
    "User Inputs"
   ]
  },
  {
   "cell_type": "code",
   "execution_count": 17,
   "metadata": {},
   "outputs": [],
   "source": [
    "#Input the setup type\n",
    "\n",
    "#Input/Select lipids "
   ]
  }
 ],
 "metadata": {
  "kernelspec": {
   "display_name": "autolnp",
   "language": "python",
   "name": "python3"
  },
  "language_info": {
   "codemirror_mode": {
    "name": "ipython",
    "version": 3
   },
   "file_extension": ".py",
   "mimetype": "text/x-python",
   "name": "python",
   "nbconvert_exporter": "python",
   "pygments_lexer": "ipython3",
   "version": "3.12.1"
  }
 },
 "nbformat": 4,
 "nbformat_minor": 2
}
